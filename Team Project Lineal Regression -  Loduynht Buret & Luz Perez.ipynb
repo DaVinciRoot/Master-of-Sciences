{
 "cells": [
  {
   "cell_type": "markdown",
   "id": "aa932893",
   "metadata": {},
   "source": [
    "A. (4 pts) You are asked to predict Sale Price, what are your reasonable choices from the dataset? Please \n",
    "report the total amounts of reasonable choices in the report, write a python code to express all your \n",
    "reasonable choices in regression formula. \n",
    "Note: reasonable choices refer to considering all possible combinations of independent variables. "
   ]
  },
  {
   "cell_type": "code",
   "execution_count": 106,
   "id": "04e31890",
   "metadata": {},
   "outputs": [
    {
     "name": "stdout",
     "output_type": "stream",
     "text": [
      "     SalePrice   Size  Beds  Baths  Num_Garage  Year Highway Aircondition  \\\n",
      "0        360.0  3.032     4      4           2  1972      no          yes   \n",
      "1        340.0  2.058     4      2           2  1976      no          yes   \n",
      "2        250.0  1.780     4      3           2  1980      no          yes   \n",
      "3        205.5  1.638     4      2           2  1963      no          yes   \n",
      "4        275.5  2.196     4      3           2  1968      no          yes   \n",
      "..         ...    ...   ...    ...         ...   ...     ...          ...   \n",
      "516      137.0  1.655     2      1           1  1935      no           no   \n",
      "517      185.0  1.944     3      2           2  1939      no          yes   \n",
      "518      133.5  1.922     3      1           2  1950      no           no   \n",
      "519      124.0  1.480     3      2           2  1953      no          yes   \n",
      "520       95.5  1.184     2      1           1  1951      no           no   \n",
      "\n",
      "    SwimmingPool  \n",
      "0             no  \n",
      "1             no  \n",
      "2             no  \n",
      "3             no  \n",
      "4             no  \n",
      "..           ...  \n",
      "516           no  \n",
      "517           no  \n",
      "518           no  \n",
      "519           no  \n",
      "520           no  \n",
      "\n",
      "[521 rows x 9 columns]\n"
     ]
    }
   ],
   "source": [
    "import os\n",
    "import numpy as np\n",
    "import pandas as pd\n",
    "import matplotlib.pyplot as plt\n",
    "import statsmodels.formula.api as smf\n",
    "\n",
    "df = pd.read_csv ('Realstate.csv')\n",
    "\n",
    "print (df)\n"
   ]
  },
  {
   "cell_type": "code",
   "execution_count": 107,
   "id": "f3c3a53d",
   "metadata": {},
   "outputs": [
    {
     "name": "stdout",
     "output_type": "stream",
     "text": [
      "[138.6122017  -12.60410482  26.99795942 -63.59570155]\n"
     ]
    }
   ],
   "source": [
    "y = df['SalePrice'].values\n",
    "x = df[['Size', 'Beds', 'Baths']].values\n",
    "\n",
    "x = np.concatenate ([x, np.ones([y.shape[0],1])], axis =1)\n",
    "\n",
    "Beta = np.matmul(np.matmul(np.linalg.inv(np.matmul(x.transpose(),x)), x.transpose()), y)\n",
    "print (Beta)"
   ]
  },
  {
   "cell_type": "code",
   "execution_count": 108,
   "id": "d673ceae",
   "metadata": {},
   "outputs": [
    {
     "name": "stdout",
     "output_type": "stream",
     "text": [
      "[['Size'], ['Beds'], ['Baths'], ['Num_Garage'], ['Highway'], ['Aircondition'], ['SwimmingPool'], ['Year'], ['Size', 'Beds'], ['Size', 'Baths'], ['Size', 'Num_Garage'], ['Size', 'Highway'], ['Size', 'Aircondition'], ['Size', 'SwimmingPool'], ['Size', 'Year'], ['Beds', 'Baths'], ['Beds', 'Num_Garage'], ['Beds', 'Highway'], ['Beds', 'Aircondition'], ['Beds', 'SwimmingPool'], ['Beds', 'Year'], ['Baths', 'Num_Garage'], ['Baths', 'Highway'], ['Baths', 'Aircondition'], ['Baths', 'SwimmingPool'], ['Baths', 'Year'], ['Num_Garage', 'Highway'], ['Num_Garage', 'Aircondition'], ['Num_Garage', 'SwimmingPool'], ['Num_Garage', 'Year'], ['Highway', 'Aircondition'], ['Highway', 'SwimmingPool'], ['Highway', 'Year'], ['Aircondition', 'SwimmingPool'], ['Aircondition', 'Year'], ['SwimmingPool', 'Year'], ['Size', 'Beds', 'Baths'], ['Size', 'Beds', 'Num_Garage'], ['Size', 'Beds', 'Highway'], ['Size', 'Beds', 'Aircondition'], ['Size', 'Beds', 'SwimmingPool'], ['Size', 'Beds', 'Year'], ['Size', 'Baths', 'Num_Garage'], ['Size', 'Baths', 'Highway'], ['Size', 'Baths', 'Aircondition'], ['Size', 'Baths', 'SwimmingPool'], ['Size', 'Baths', 'Year'], ['Size', 'Num_Garage', 'Highway'], ['Size', 'Num_Garage', 'Aircondition'], ['Size', 'Num_Garage', 'SwimmingPool'], ['Size', 'Num_Garage', 'Year'], ['Size', 'Highway', 'Aircondition'], ['Size', 'Highway', 'SwimmingPool'], ['Size', 'Highway', 'Year'], ['Size', 'Aircondition', 'SwimmingPool'], ['Size', 'Aircondition', 'Year'], ['Size', 'SwimmingPool', 'Year'], ['Beds', 'Baths', 'Num_Garage'], ['Beds', 'Baths', 'Highway'], ['Beds', 'Baths', 'Aircondition'], ['Beds', 'Baths', 'SwimmingPool'], ['Beds', 'Baths', 'Year'], ['Beds', 'Num_Garage', 'Highway'], ['Beds', 'Num_Garage', 'Aircondition'], ['Beds', 'Num_Garage', 'SwimmingPool'], ['Beds', 'Num_Garage', 'Year'], ['Beds', 'Highway', 'Aircondition'], ['Beds', 'Highway', 'SwimmingPool'], ['Beds', 'Highway', 'Year'], ['Beds', 'Aircondition', 'SwimmingPool'], ['Beds', 'Aircondition', 'Year'], ['Beds', 'SwimmingPool', 'Year'], ['Baths', 'Num_Garage', 'Highway'], ['Baths', 'Num_Garage', 'Aircondition'], ['Baths', 'Num_Garage', 'SwimmingPool'], ['Baths', 'Num_Garage', 'Year'], ['Baths', 'Highway', 'Aircondition'], ['Baths', 'Highway', 'SwimmingPool'], ['Baths', 'Highway', 'Year'], ['Baths', 'Aircondition', 'SwimmingPool'], ['Baths', 'Aircondition', 'Year'], ['Baths', 'SwimmingPool', 'Year'], ['Num_Garage', 'Highway', 'Aircondition'], ['Num_Garage', 'Highway', 'SwimmingPool'], ['Num_Garage', 'Highway', 'Year'], ['Num_Garage', 'Aircondition', 'SwimmingPool'], ['Num_Garage', 'Aircondition', 'Year'], ['Num_Garage', 'SwimmingPool', 'Year'], ['Highway', 'Aircondition', 'SwimmingPool'], ['Highway', 'Aircondition', 'Year'], ['Highway', 'SwimmingPool', 'Year'], ['Aircondition', 'SwimmingPool', 'Year'], ['Size', 'Beds', 'Baths', 'Num_Garage'], ['Size', 'Beds', 'Baths', 'Highway'], ['Size', 'Beds', 'Baths', 'Aircondition'], ['Size', 'Beds', 'Baths', 'SwimmingPool'], ['Size', 'Beds', 'Baths', 'Year'], ['Size', 'Beds', 'Num_Garage', 'Highway'], ['Size', 'Beds', 'Num_Garage', 'Aircondition'], ['Size', 'Beds', 'Num_Garage', 'SwimmingPool'], ['Size', 'Beds', 'Num_Garage', 'Year'], ['Size', 'Beds', 'Highway', 'Aircondition'], ['Size', 'Beds', 'Highway', 'SwimmingPool'], ['Size', 'Beds', 'Highway', 'Year'], ['Size', 'Beds', 'Aircondition', 'SwimmingPool'], ['Size', 'Beds', 'Aircondition', 'Year'], ['Size', 'Beds', 'SwimmingPool', 'Year'], ['Size', 'Baths', 'Num_Garage', 'Highway'], ['Size', 'Baths', 'Num_Garage', 'Aircondition'], ['Size', 'Baths', 'Num_Garage', 'SwimmingPool'], ['Size', 'Baths', 'Num_Garage', 'Year'], ['Size', 'Baths', 'Highway', 'Aircondition'], ['Size', 'Baths', 'Highway', 'SwimmingPool'], ['Size', 'Baths', 'Highway', 'Year'], ['Size', 'Baths', 'Aircondition', 'SwimmingPool'], ['Size', 'Baths', 'Aircondition', 'Year'], ['Size', 'Baths', 'SwimmingPool', 'Year'], ['Size', 'Num_Garage', 'Highway', 'Aircondition'], ['Size', 'Num_Garage', 'Highway', 'SwimmingPool'], ['Size', 'Num_Garage', 'Highway', 'Year'], ['Size', 'Num_Garage', 'Aircondition', 'SwimmingPool'], ['Size', 'Num_Garage', 'Aircondition', 'Year'], ['Size', 'Num_Garage', 'SwimmingPool', 'Year'], ['Size', 'Highway', 'Aircondition', 'SwimmingPool'], ['Size', 'Highway', 'Aircondition', 'Year'], ['Size', 'Highway', 'SwimmingPool', 'Year'], ['Size', 'Aircondition', 'SwimmingPool', 'Year'], ['Beds', 'Baths', 'Num_Garage', 'Highway'], ['Beds', 'Baths', 'Num_Garage', 'Aircondition'], ['Beds', 'Baths', 'Num_Garage', 'SwimmingPool'], ['Beds', 'Baths', 'Num_Garage', 'Year'], ['Beds', 'Baths', 'Highway', 'Aircondition'], ['Beds', 'Baths', 'Highway', 'SwimmingPool'], ['Beds', 'Baths', 'Highway', 'Year'], ['Beds', 'Baths', 'Aircondition', 'SwimmingPool'], ['Beds', 'Baths', 'Aircondition', 'Year'], ['Beds', 'Baths', 'SwimmingPool', 'Year'], ['Beds', 'Num_Garage', 'Highway', 'Aircondition'], ['Beds', 'Num_Garage', 'Highway', 'SwimmingPool'], ['Beds', 'Num_Garage', 'Highway', 'Year'], ['Beds', 'Num_Garage', 'Aircondition', 'SwimmingPool'], ['Beds', 'Num_Garage', 'Aircondition', 'Year'], ['Beds', 'Num_Garage', 'SwimmingPool', 'Year'], ['Beds', 'Highway', 'Aircondition', 'SwimmingPool'], ['Beds', 'Highway', 'Aircondition', 'Year'], ['Beds', 'Highway', 'SwimmingPool', 'Year'], ['Beds', 'Aircondition', 'SwimmingPool', 'Year'], ['Baths', 'Num_Garage', 'Highway', 'Aircondition'], ['Baths', 'Num_Garage', 'Highway', 'SwimmingPool'], ['Baths', 'Num_Garage', 'Highway', 'Year'], ['Baths', 'Num_Garage', 'Aircondition', 'SwimmingPool'], ['Baths', 'Num_Garage', 'Aircondition', 'Year'], ['Baths', 'Num_Garage', 'SwimmingPool', 'Year'], ['Baths', 'Highway', 'Aircondition', 'SwimmingPool'], ['Baths', 'Highway', 'Aircondition', 'Year'], ['Baths', 'Highway', 'SwimmingPool', 'Year'], ['Baths', 'Aircondition', 'SwimmingPool', 'Year'], ['Num_Garage', 'Highway', 'Aircondition', 'SwimmingPool'], ['Num_Garage', 'Highway', 'Aircondition', 'Year'], ['Num_Garage', 'Highway', 'SwimmingPool', 'Year'], ['Num_Garage', 'Aircondition', 'SwimmingPool', 'Year'], ['Highway', 'Aircondition', 'SwimmingPool', 'Year'], ['Size', 'Beds', 'Baths', 'Num_Garage', 'Highway'], ['Size', 'Beds', 'Baths', 'Num_Garage', 'Aircondition'], ['Size', 'Beds', 'Baths', 'Num_Garage', 'SwimmingPool'], ['Size', 'Beds', 'Baths', 'Num_Garage', 'Year'], ['Size', 'Beds', 'Baths', 'Highway', 'Aircondition'], ['Size', 'Beds', 'Baths', 'Highway', 'SwimmingPool'], ['Size', 'Beds', 'Baths', 'Highway', 'Year'], ['Size', 'Beds', 'Baths', 'Aircondition', 'SwimmingPool'], ['Size', 'Beds', 'Baths', 'Aircondition', 'Year'], ['Size', 'Beds', 'Baths', 'SwimmingPool', 'Year'], ['Size', 'Beds', 'Num_Garage', 'Highway', 'Aircondition'], ['Size', 'Beds', 'Num_Garage', 'Highway', 'SwimmingPool'], ['Size', 'Beds', 'Num_Garage', 'Highway', 'Year'], ['Size', 'Beds', 'Num_Garage', 'Aircondition', 'SwimmingPool'], ['Size', 'Beds', 'Num_Garage', 'Aircondition', 'Year'], ['Size', 'Beds', 'Num_Garage', 'SwimmingPool', 'Year'], ['Size', 'Beds', 'Highway', 'Aircondition', 'SwimmingPool'], ['Size', 'Beds', 'Highway', 'Aircondition', 'Year'], ['Size', 'Beds', 'Highway', 'SwimmingPool', 'Year'], ['Size', 'Beds', 'Aircondition', 'SwimmingPool', 'Year'], ['Size', 'Baths', 'Num_Garage', 'Highway', 'Aircondition'], ['Size', 'Baths', 'Num_Garage', 'Highway', 'SwimmingPool'], ['Size', 'Baths', 'Num_Garage', 'Highway', 'Year'], ['Size', 'Baths', 'Num_Garage', 'Aircondition', 'SwimmingPool'], ['Size', 'Baths', 'Num_Garage', 'Aircondition', 'Year'], ['Size', 'Baths', 'Num_Garage', 'SwimmingPool', 'Year'], ['Size', 'Baths', 'Highway', 'Aircondition', 'SwimmingPool'], ['Size', 'Baths', 'Highway', 'Aircondition', 'Year'], ['Size', 'Baths', 'Highway', 'SwimmingPool', 'Year'], ['Size', 'Baths', 'Aircondition', 'SwimmingPool', 'Year'], ['Size', 'Num_Garage', 'Highway', 'Aircondition', 'SwimmingPool'], ['Size', 'Num_Garage', 'Highway', 'Aircondition', 'Year'], ['Size', 'Num_Garage', 'Highway', 'SwimmingPool', 'Year'], ['Size', 'Num_Garage', 'Aircondition', 'SwimmingPool', 'Year'], ['Size', 'Highway', 'Aircondition', 'SwimmingPool', 'Year'], ['Beds', 'Baths', 'Num_Garage', 'Highway', 'Aircondition'], ['Beds', 'Baths', 'Num_Garage', 'Highway', 'SwimmingPool'], ['Beds', 'Baths', 'Num_Garage', 'Highway', 'Year'], ['Beds', 'Baths', 'Num_Garage', 'Aircondition', 'SwimmingPool'], ['Beds', 'Baths', 'Num_Garage', 'Aircondition', 'Year'], ['Beds', 'Baths', 'Num_Garage', 'SwimmingPool', 'Year'], ['Beds', 'Baths', 'Highway', 'Aircondition', 'SwimmingPool'], ['Beds', 'Baths', 'Highway', 'Aircondition', 'Year'], ['Beds', 'Baths', 'Highway', 'SwimmingPool', 'Year'], ['Beds', 'Baths', 'Aircondition', 'SwimmingPool', 'Year'], ['Beds', 'Num_Garage', 'Highway', 'Aircondition', 'SwimmingPool'], ['Beds', 'Num_Garage', 'Highway', 'Aircondition', 'Year'], ['Beds', 'Num_Garage', 'Highway', 'SwimmingPool', 'Year'], ['Beds', 'Num_Garage', 'Aircondition', 'SwimmingPool', 'Year'], ['Beds', 'Highway', 'Aircondition', 'SwimmingPool', 'Year'], ['Baths', 'Num_Garage', 'Highway', 'Aircondition', 'SwimmingPool'], ['Baths', 'Num_Garage', 'Highway', 'Aircondition', 'Year'], ['Baths', 'Num_Garage', 'Highway', 'SwimmingPool', 'Year'], ['Baths', 'Num_Garage', 'Aircondition', 'SwimmingPool', 'Year'], ['Baths', 'Highway', 'Aircondition', 'SwimmingPool', 'Year'], ['Num_Garage', 'Highway', 'Aircondition', 'SwimmingPool', 'Year'], ['Size', 'Beds', 'Baths', 'Num_Garage', 'Highway', 'Aircondition'], ['Size', 'Beds', 'Baths', 'Num_Garage', 'Highway', 'SwimmingPool'], ['Size', 'Beds', 'Baths', 'Num_Garage', 'Highway', 'Year'], ['Size', 'Beds', 'Baths', 'Num_Garage', 'Aircondition', 'SwimmingPool'], ['Size', 'Beds', 'Baths', 'Num_Garage', 'Aircondition', 'Year'], ['Size', 'Beds', 'Baths', 'Num_Garage', 'SwimmingPool', 'Year'], ['Size', 'Beds', 'Baths', 'Highway', 'Aircondition', 'SwimmingPool'], ['Size', 'Beds', 'Baths', 'Highway', 'Aircondition', 'Year'], ['Size', 'Beds', 'Baths', 'Highway', 'SwimmingPool', 'Year'], ['Size', 'Beds', 'Baths', 'Aircondition', 'SwimmingPool', 'Year'], ['Size', 'Beds', 'Num_Garage', 'Highway', 'Aircondition', 'SwimmingPool'], ['Size', 'Beds', 'Num_Garage', 'Highway', 'Aircondition', 'Year'], ['Size', 'Beds', 'Num_Garage', 'Highway', 'SwimmingPool', 'Year'], ['Size', 'Beds', 'Num_Garage', 'Aircondition', 'SwimmingPool', 'Year'], ['Size', 'Beds', 'Highway', 'Aircondition', 'SwimmingPool', 'Year'], ['Size', 'Baths', 'Num_Garage', 'Highway', 'Aircondition', 'SwimmingPool'], ['Size', 'Baths', 'Num_Garage', 'Highway', 'Aircondition', 'Year'], ['Size', 'Baths', 'Num_Garage', 'Highway', 'SwimmingPool', 'Year'], ['Size', 'Baths', 'Num_Garage', 'Aircondition', 'SwimmingPool', 'Year'], ['Size', 'Baths', 'Highway', 'Aircondition', 'SwimmingPool', 'Year'], ['Size', 'Num_Garage', 'Highway', 'Aircondition', 'SwimmingPool', 'Year'], ['Beds', 'Baths', 'Num_Garage', 'Highway', 'Aircondition', 'SwimmingPool'], ['Beds', 'Baths', 'Num_Garage', 'Highway', 'Aircondition', 'Year'], ['Beds', 'Baths', 'Num_Garage', 'Highway', 'SwimmingPool', 'Year'], ['Beds', 'Baths', 'Num_Garage', 'Aircondition', 'SwimmingPool', 'Year'], ['Beds', 'Baths', 'Highway', 'Aircondition', 'SwimmingPool', 'Year'], ['Beds', 'Num_Garage', 'Highway', 'Aircondition', 'SwimmingPool', 'Year'], ['Baths', 'Num_Garage', 'Highway', 'Aircondition', 'SwimmingPool', 'Year'], ['Size', 'Beds', 'Baths', 'Num_Garage', 'Highway', 'Aircondition', 'SwimmingPool'], ['Size', 'Beds', 'Baths', 'Num_Garage', 'Highway', 'Aircondition', 'Year'], ['Size', 'Beds', 'Baths', 'Num_Garage', 'Highway', 'SwimmingPool', 'Year'], ['Size', 'Beds', 'Baths', 'Num_Garage', 'Aircondition', 'SwimmingPool', 'Year'], ['Size', 'Beds', 'Baths', 'Highway', 'Aircondition', 'SwimmingPool', 'Year'], ['Size', 'Beds', 'Num_Garage', 'Highway', 'Aircondition', 'SwimmingPool', 'Year'], ['Size', 'Baths', 'Num_Garage', 'Highway', 'Aircondition', 'SwimmingPool', 'Year'], ['Beds', 'Baths', 'Num_Garage', 'Highway', 'Aircondition', 'SwimmingPool', 'Year'], ['Size', 'Beds', 'Baths', 'Num_Garage', 'Highway', 'Aircondition', 'SwimmingPool', 'Year']]\n"
     ]
    }
   ],
   "source": [
    "from itertools import combinations\n",
    "feature = ['Size','Beds','Baths','Num_Garage','Highway','Aircondition','SwimmingPool','Year']\n",
    "all_combinations = []\n",
    "for i in range (1,len(feature)+1):\n",
    "    oc = combinations (feature, i)\n",
    "    for c in oc:\n",
    "        all_combinations.append(list(c))\n",
    "print (all_combinations)"
   ]
  },
  {
   "cell_type": "code",
   "execution_count": 109,
   "id": "1d626055",
   "metadata": {},
   "outputs": [
    {
     "name": "stdout",
     "output_type": "stream",
     "text": [
      "Total amount of reasonable choices is: 255\n"
     ]
    }
   ],
   "source": [
    "Total_choices = len (all_combinations)\n",
    "print ('Total amount of reasonable choices is:', Total_choices)"
   ]
  },
  {
   "cell_type": "markdown",
   "id": "7f9a263b",
   "metadata": {},
   "source": [
    "B. (4 pts) To avoid overfitting, we would set some constraints when training the model. Please write a \n",
    "python code to find the best linear regression with the following two constraints and export the \n",
    "regression summary to Q2_b.txt:\n",
    "1. Highway should be one of the independent variables.\n",
    "2. The total number of independent variables of the model should not exceed 4"
   ]
  },
  {
   "cell_type": "code",
   "execution_count": 156,
   "id": "a2c08c72",
   "metadata": {},
   "outputs": [
    {
     "name": "stdout",
     "output_type": "stream",
     "text": [
      "[['Size'], ['Beds'], ['Highway'], ['Size', 'Beds'], ['Size', 'Highway'], ['Beds', 'Highway'], ['Size', 'Beds', 'Highway']]\n"
     ]
    }
   ],
   "source": [
    "from itertools import combinations\n",
    "feature = ['Size','Beds','Highway']\n",
    "all_combinationsb = []\n",
    "for i in range (1,len(feature)+1):\n",
    "    ocb = combinations (feature, i)\n",
    "    for c in ocb:\n",
    "        all_combinationsb.append(list(c))\n",
    "print (all_combinationsb)"
   ]
  },
  {
   "cell_type": "code",
   "execution_count": 134,
   "id": "0560a1b1",
   "metadata": {},
   "outputs": [
    {
     "data": {
      "text/html": [
       "<div>\n",
       "<style scoped>\n",
       "    .dataframe tbody tr th:only-of-type {\n",
       "        vertical-align: middle;\n",
       "    }\n",
       "\n",
       "    .dataframe tbody tr th {\n",
       "        vertical-align: top;\n",
       "    }\n",
       "\n",
       "    .dataframe thead th {\n",
       "        text-align: right;\n",
       "    }\n",
       "</style>\n",
       "<table border=\"1\" class=\"dataframe\">\n",
       "  <thead>\n",
       "    <tr style=\"text-align: right;\">\n",
       "      <th></th>\n",
       "      <th>SalePrice</th>\n",
       "      <th>Size</th>\n",
       "      <th>Beds</th>\n",
       "      <th>Baths</th>\n",
       "      <th>Num_Garage</th>\n",
       "      <th>Year</th>\n",
       "      <th>Highway</th>\n",
       "      <th>Aircondition</th>\n",
       "      <th>SwimmingPool</th>\n",
       "    </tr>\n",
       "  </thead>\n",
       "  <tbody>\n",
       "    <tr>\n",
       "      <th>0</th>\n",
       "      <td>360.0</td>\n",
       "      <td>3.032</td>\n",
       "      <td>4</td>\n",
       "      <td>4</td>\n",
       "      <td>2</td>\n",
       "      <td>1972</td>\n",
       "      <td>0</td>\n",
       "      <td>yes</td>\n",
       "      <td>no</td>\n",
       "    </tr>\n",
       "    <tr>\n",
       "      <th>1</th>\n",
       "      <td>340.0</td>\n",
       "      <td>2.058</td>\n",
       "      <td>4</td>\n",
       "      <td>2</td>\n",
       "      <td>2</td>\n",
       "      <td>1976</td>\n",
       "      <td>0</td>\n",
       "      <td>yes</td>\n",
       "      <td>no</td>\n",
       "    </tr>\n",
       "    <tr>\n",
       "      <th>2</th>\n",
       "      <td>250.0</td>\n",
       "      <td>1.780</td>\n",
       "      <td>4</td>\n",
       "      <td>3</td>\n",
       "      <td>2</td>\n",
       "      <td>1980</td>\n",
       "      <td>0</td>\n",
       "      <td>yes</td>\n",
       "      <td>no</td>\n",
       "    </tr>\n",
       "    <tr>\n",
       "      <th>3</th>\n",
       "      <td>205.5</td>\n",
       "      <td>1.638</td>\n",
       "      <td>4</td>\n",
       "      <td>2</td>\n",
       "      <td>2</td>\n",
       "      <td>1963</td>\n",
       "      <td>0</td>\n",
       "      <td>yes</td>\n",
       "      <td>no</td>\n",
       "    </tr>\n",
       "    <tr>\n",
       "      <th>4</th>\n",
       "      <td>275.5</td>\n",
       "      <td>2.196</td>\n",
       "      <td>4</td>\n",
       "      <td>3</td>\n",
       "      <td>2</td>\n",
       "      <td>1968</td>\n",
       "      <td>0</td>\n",
       "      <td>yes</td>\n",
       "      <td>no</td>\n",
       "    </tr>\n",
       "  </tbody>\n",
       "</table>\n",
       "</div>"
      ],
      "text/plain": [
       "   SalePrice   Size  Beds  Baths  Num_Garage  Year  Highway Aircondition  \\\n",
       "0      360.0  3.032     4      4           2  1972        0          yes   \n",
       "1      340.0  2.058     4      2           2  1976        0          yes   \n",
       "2      250.0  1.780     4      3           2  1980        0          yes   \n",
       "3      205.5  1.638     4      2           2  1963        0          yes   \n",
       "4      275.5  2.196     4      3           2  1968        0          yes   \n",
       "\n",
       "  SwimmingPool  \n",
       "0           no  \n",
       "1           no  \n",
       "2           no  \n",
       "3           no  \n",
       "4           no  "
      ]
     },
     "execution_count": 134,
     "metadata": {},
     "output_type": "execute_result"
    }
   ],
   "source": [
    "df['Highway'].replace(('yes', 'no'), (1,0), inplace=True)\n",
    "df.head()"
   ]
  },
  {
   "cell_type": "code",
   "execution_count": 167,
   "id": "0ef19035",
   "metadata": {},
   "outputs": [
    {
     "name": "stdout",
     "output_type": "stream",
     "text": [
      "intercept: -82.26223002557595\n",
      "slope 159.0863004413931\n",
      "Rsquared 0.676943525214198\n"
     ]
    }
   ],
   "source": [
    "#Univariate\n",
    "#Case1\n",
    "Rsquaredlist = []\n",
    "model = smf.ols(formula = 'SalePrice ~ Size', data = df).fit()\n",
    "intercept = model.params[0]\n",
    "slope = model.params[1]\n",
    "Rsquared = model.rsquared\n",
    "print ('intercept:', intercept)\n",
    "print ('slope', slope)\n",
    "print ('Rsquared', Rsquared)\n",
    "Rsquaredlist.append (Rsquared)\n"
   ]
  },
  {
   "cell_type": "code",
   "execution_count": 170,
   "id": "d3859d9b",
   "metadata": {},
   "outputs": [],
   "source": [
    "#Univariate\n",
    "#Case2\n",
    "model2 = smf.ols(formula = 'SalePrice ~ Beds', data = df).fit()\n",
    "intercept = model2.params[0]\n",
    "slope = model2.params[1]\n",
    "Rsquared = model2.rsquared\n",
    "Rsquaredlist.append (Rsquared)\n",
    "print ('intercept:', intercept)\n",
    "print ('slope', slope)\n",
    "print ('Rsquared', Rsquared)\n",
    "Rsquaredlist.append (Rsquared)"
   ]
  },
  {
   "cell_type": "code",
   "execution_count": 171,
   "id": "9aaff05f",
   "metadata": {},
   "outputs": [],
   "source": [
    "#Univariate\n",
    "#Case3\n",
    "model3 = smf.ols(formula = 'SalePrice ~ Highway', data = df).fit()\n",
    "intercept = model3.params[0]\n",
    "slope = model3.params[1]\n",
    "Rsquared = model3.rsquared\n",
    "Rsquaredlist.append (Rsquared)\n",
    "print ('intercept:', intercept)\n",
    "print ('slope', slope)\n",
    "print ('Rsquared', Rsquared)\n",
    "Rsquaredlist.append (Rsquared)"
   ]
  },
  {
   "cell_type": "code",
   "execution_count": 173,
   "id": "1c19b4fa",
   "metadata": {},
   "outputs": [
    {
     "name": "stdout",
     "output_type": "stream",
     "text": [
      "model_SalePrice_Size_Beds\n",
      "Intercept    -71.560334\n",
      "Size         164.136996\n",
      "Beds          -6.360371\n",
      "dtype: float64\n",
      "                            OLS Regression Results                            \n",
      "==============================================================================\n",
      "Dep. Variable:              SalePrice   R-squared:                       0.678\n",
      "Model:                            OLS   Adj. R-squared:                  0.677\n",
      "Method:                 Least Squares   F-statistic:                     546.4\n",
      "Date:                Mon, 25 Apr 2022   Prob (F-statistic):          2.45e-128\n",
      "Time:                        18:53:31   Log-Likelihood:                -3008.9\n",
      "No. Observations:                 521   AIC:                             6024.\n",
      "Df Residuals:                     518   BIC:                             6037.\n",
      "Df Model:                           2                                         \n",
      "Covariance Type:            nonrobust                                         \n",
      "==============================================================================\n",
      "                 coef    std err          t      P>|t|      [0.025      0.975]\n",
      "------------------------------------------------------------------------------\n",
      "Intercept    -71.5603     13.369     -5.353      0.000     -97.825     -45.296\n",
      "Size         164.1370      5.829     28.157      0.000     152.685     175.589\n",
      "Beds          -6.3604      4.133     -1.539      0.124     -14.480       1.759\n",
      "==============================================================================\n",
      "Omnibus:                      139.205   Durbin-Watson:                   1.369\n",
      "Prob(Omnibus):                  0.000   Jarque-Bera (JB):              470.197\n",
      "Skew:                           1.218   Prob(JB):                    7.91e-103\n",
      "Kurtosis:                       6.966   Cond. No.                         17.6\n",
      "==============================================================================\n",
      "\n",
      "Notes:\n",
      "[1] Standard Errors assume that the covariance matrix of the errors is correctly specified.\n"
     ]
    }
   ],
   "source": [
    "#multivariate\n",
    "#case 4\n",
    "model_SalePrice_Size_Bed = smf.ols(formula = 'SalePrice ~ Size + Beds', data = df).fit()\n",
    "intercept = model_SalePrice_Size_Beds.params[0]\n",
    "slope = model_SalePrice_Size_Beds.params[1]\n",
    "Rsquared = model_SalePrice_Size_Beds.rsquared\n",
    "print (\"model_SalePrice_Size_Beds\")\n",
    "print (model_SalePrice_Size_Beds.params)\n",
    "print (model_SalePrice_Size_Beds.summary())\n",
    "Rsquaredlist.append (Rsquared)"
   ]
  },
  {
   "cell_type": "code",
   "execution_count": 174,
   "id": "41a02e0d",
   "metadata": {},
   "outputs": [
    {
     "name": "stdout",
     "output_type": "stream",
     "text": [
      "model_SalePrice_Size_Highway\n",
      "Intercept    -82.229787\n",
      "Size         159.078152\n",
      "Highway       -0.664128\n",
      "dtype: float64\n",
      "                            OLS Regression Results                            \n",
      "==============================================================================\n",
      "Dep. Variable:              SalePrice   R-squared:                       0.677\n",
      "Model:                            OLS   Adj. R-squared:                  0.676\n",
      "Method:                 Least Squares   F-statistic:                     542.7\n",
      "Date:                Mon, 25 Apr 2022   Prob (F-statistic):          8.00e-128\n",
      "Time:                        18:53:32   Log-Likelihood:                -3010.1\n",
      "No. Observations:                 521   AIC:                             6026.\n",
      "Df Residuals:                     518   BIC:                             6039.\n",
      "Df Model:                           2                                         \n",
      "Covariance Type:            nonrobust                                         \n",
      "==============================================================================\n",
      "                 coef    std err          t      P>|t|      [0.025      0.975]\n",
      "------------------------------------------------------------------------------\n",
      "Intercept    -82.2298     11.504     -7.148      0.000    -104.830     -59.630\n",
      "Size         159.0782      4.838     32.884      0.000     149.574     168.582\n",
      "Highway       -0.6641     23.927     -0.028      0.978     -47.670      46.341\n",
      "==============================================================================\n",
      "Omnibus:                      143.849   Durbin-Watson:                   1.347\n",
      "Prob(Omnibus):                  0.000   Jarque-Bera (JB):              505.213\n",
      "Skew:                           1.246   Prob(JB):                    1.97e-110\n",
      "Kurtosis:                       7.131   Cond. No.                         17.9\n",
      "==============================================================================\n",
      "\n",
      "Notes:\n",
      "[1] Standard Errors assume that the covariance matrix of the errors is correctly specified.\n"
     ]
    }
   ],
   "source": [
    "#multivariate\n",
    "#case 5\n",
    "model_SalePrice_Size_Highway = smf.ols(formula = 'SalePrice ~ Size + Highway', data = df).fit()\n",
    "intercept = model_SalePrice_Size_Highway.params[0]\n",
    "slope = model_SalePrice_Size_Highway.params[1]\n",
    "Rsquared = model_SalePrice_Size_Highway.rsquared\n",
    "print (\"model_SalePrice_Size_Highway\")\n",
    "print (model_SalePrice_Size_Highway.params)\n",
    "print (model_SalePrice_Size_Highway.summary())\n",
    "Rsquaredlist.append (Rsquared)"
   ]
  },
  {
   "cell_type": "code",
   "execution_count": 175,
   "id": "3c112c6c",
   "metadata": {},
   "outputs": [
    {
     "name": "stdout",
     "output_type": "stream",
     "text": [
      "model_SalePrice_Beds_Highway\n",
      "Intercept    72.959527\n",
      "Beds         59.004694\n",
      "Highway     -36.038525\n",
      "dtype: float64\n",
      "                            OLS Regression Results                            \n",
      "==============================================================================\n",
      "Dep. Variable:              SalePrice   R-squared:                       0.188\n",
      "Model:                            OLS   Adj. R-squared:                  0.185\n",
      "Method:                 Least Squares   F-statistic:                     59.83\n",
      "Date:                Mon, 25 Apr 2022   Prob (F-statistic):           4.21e-24\n",
      "Time:                        18:53:32   Log-Likelihood:                -3250.3\n",
      "No. Observations:                 521   AIC:                             6507.\n",
      "Df Residuals:                     518   BIC:                             6519.\n",
      "Df Model:                           2                                         \n",
      "Covariance Type:            nonrobust                                         \n",
      "==============================================================================\n",
      "                 coef    std err          t      P>|t|      [0.025      0.975]\n",
      "------------------------------------------------------------------------------\n",
      "Intercept     72.9595     19.698      3.704      0.000      34.261     111.658\n",
      "Beds          59.0047      5.431     10.864      0.000      48.334      69.675\n",
      "Highway      -36.0385     37.889     -0.951      0.342    -110.473      38.396\n",
      "==============================================================================\n",
      "Omnibus:                      187.754   Durbin-Watson:                   0.568\n",
      "Prob(Omnibus):                  0.000   Jarque-Bera (JB):              563.766\n",
      "Skew:                           1.746   Prob(JB):                    3.80e-123\n",
      "Kurtosis:                       6.711   Cond. No.                         26.1\n",
      "==============================================================================\n",
      "\n",
      "Notes:\n",
      "[1] Standard Errors assume that the covariance matrix of the errors is correctly specified.\n"
     ]
    }
   ],
   "source": [
    "#multivariate\n",
    "#case 6\n",
    "model_SalePrice_Beds_Highway = smf.ols(formula = 'SalePrice ~ Beds + Highway', data = df).fit()\n",
    "intercept = model_SalePrice_Beds_Highway.params[0]\n",
    "slope = model_SalePrice_Beds_Highway.params[1]\n",
    "Rsquared = model_SalePrice_Beds_Highway.rsquared\n",
    "print (\"model_SalePrice_Beds_Highway\")\n",
    "print (model_SalePrice_Beds_Highway.params)\n",
    "print (model_SalePrice_Beds_Highway.summary())\n",
    "Rsquaredlist.append (Rsquared)"
   ]
  },
  {
   "cell_type": "code",
   "execution_count": 176,
   "id": "76081990",
   "metadata": {
    "scrolled": true
   },
   "outputs": [
    {
     "name": "stdout",
     "output_type": "stream",
     "text": [
      "model_SalePrice_Size_Beds_Highway\n",
      "Intercept    -71.537539\n",
      "Size         164.130766\n",
      "Beds          -6.359956\n",
      "Highway       -0.480924\n",
      "dtype: float64\n",
      "                            OLS Regression Results                            \n",
      "==============================================================================\n",
      "Dep. Variable:              SalePrice   R-squared:                       0.678\n",
      "Model:                            OLS   Adj. R-squared:                  0.677\n",
      "Method:                 Least Squares   F-statistic:                     363.6\n",
      "Date:                Mon, 25 Apr 2022   Prob (F-statistic):          6.48e-127\n",
      "Time:                        18:53:34   Log-Likelihood:                -3008.9\n",
      "No. Observations:                 521   AIC:                             6026.\n",
      "Df Residuals:                     517   BIC:                             6043.\n",
      "Df Model:                           3                                         \n",
      "Covariance Type:            nonrobust                                         \n",
      "==============================================================================\n",
      "                 coef    std err          t      P>|t|      [0.025      0.975]\n",
      "------------------------------------------------------------------------------\n",
      "Intercept    -71.5375     13.430     -5.327      0.000     -97.922     -45.153\n",
      "Size         164.1308      5.843     28.089      0.000     152.651     175.610\n",
      "Beds          -6.3600      4.137     -1.537      0.125     -14.488       1.768\n",
      "Highway       -0.4809     23.896     -0.020      0.984     -47.425      46.464\n",
      "==============================================================================\n",
      "Omnibus:                      139.204   Durbin-Watson:                   1.369\n",
      "Prob(Omnibus):                  0.000   Jarque-Bera (JB):              470.170\n",
      "Skew:                           1.218   Prob(JB):                    8.01e-103\n",
      "Kurtosis:                       6.966   Cond. No.                         30.7\n",
      "==============================================================================\n",
      "\n",
      "Notes:\n",
      "[1] Standard Errors assume that the covariance matrix of the errors is correctly specified.\n"
     ]
    }
   ],
   "source": [
    "#multivariate\n",
    "#case 7\n",
    "model_SalePrice_Size_Beds_Highway = smf.ols(formula = 'SalePrice ~ Size + Beds + Highway', data = df).fit()\n",
    "intercept = model_SalePrice_Size_Beds_Highway.params[0]\n",
    "slope = model_SalePrice_Size_Beds_Highway.params[1]\n",
    "Rsquared = model_SalePrice_Size_Beds_Highway.rsquared\n",
    "print (\"model_SalePrice_Size_Beds_Highway\")\n",
    "print (model_SalePrice_Size_Beds_Highway.params)\n",
    "print (model_SalePrice_Size_Beds_Highway.summary())\n",
    "Rsquaredlist.append (Rsquared)"
   ]
  },
  {
   "cell_type": "code",
   "execution_count": 177,
   "id": "e61458f3",
   "metadata": {},
   "outputs": [
    {
     "name": "stdout",
     "output_type": "stream",
     "text": [
      "[0.676943525214198, 0.1862265142650874, 0.0025621650160894127, 0.6784137426780028, 0.6769440057049589, 0.18764532620894303, 0.6784139946330221]\n"
     ]
    }
   ],
   "source": [
    "print (Rsquaredlist)"
   ]
  },
  {
   "cell_type": "code",
   "execution_count": 178,
   "id": "d95fa521",
   "metadata": {},
   "outputs": [
    {
     "data": {
      "text/plain": [
       "0.6784139946330221"
      ]
     },
     "execution_count": 178,
     "metadata": {},
     "output_type": "execute_result"
    }
   ],
   "source": [
    "max (Rsquaredlist)"
   ]
  },
  {
   "cell_type": "code",
   "execution_count": 211,
   "id": "e1e9d752",
   "metadata": {},
   "outputs": [
    {
     "name": "stdout",
     "output_type": "stream",
     "text": [
      "model\n",
      "const    -82.26223\n",
      "Size     159.08630\n",
      "dtype: float64\n",
      "                            OLS Regression Results                            \n",
      "==============================================================================\n",
      "Dep. Variable:              SalePrice   R-squared:                       0.677\n",
      "Model:                            OLS   Adj. R-squared:                  0.676\n",
      "Method:                 Least Squares   F-statistic:                     1088.\n",
      "Date:                Mon, 25 Apr 2022   Prob (F-statistic):          1.93e-129\n",
      "Time:                        20:04:17   Log-Likelihood:                -3010.1\n",
      "No. Observations:                 521   AIC:                             6024.\n",
      "Df Residuals:                     519   BIC:                             6033.\n",
      "Df Model:                           1                                         \n",
      "Covariance Type:            nonrobust                                         \n",
      "==============================================================================\n",
      "                 coef    std err          t      P>|t|      [0.025      0.975]\n",
      "------------------------------------------------------------------------------\n",
      "const        -82.2622     11.433     -7.195      0.000    -104.723     -59.801\n",
      "Size         159.0863      4.824     32.978      0.000     149.609     168.563\n",
      "==============================================================================\n",
      "Omnibus:                      143.847   Durbin-Watson:                   1.347\n",
      "Prob(Omnibus):                  0.000   Jarque-Bera (JB):              505.236\n",
      "Skew:                           1.246   Prob(JB):                    1.95e-110\n",
      "Kurtosis:                       7.131   Cond. No.                         9.20\n",
      "==============================================================================\n",
      "\n",
      "Notes:\n",
      "[1] Standard Errors assume that the covariance matrix of the errors is correctly specified.\n",
      "model\n",
      "const    71.658718\n",
      "Beds     59.159935\n",
      "dtype: float64\n",
      "                            OLS Regression Results                            \n",
      "==============================================================================\n",
      "Dep. Variable:              SalePrice   R-squared:                       0.186\n",
      "Model:                            OLS   Adj. R-squared:                  0.185\n",
      "Method:                 Least Squares   F-statistic:                     118.8\n",
      "Date:                Mon, 25 Apr 2022   Prob (F-statistic):           4.80e-25\n",
      "Time:                        20:04:17   Log-Likelihood:                -3250.7\n",
      "No. Observations:                 521   AIC:                             6505.\n",
      "Df Residuals:                     519   BIC:                             6514.\n",
      "Df Model:                           1                                         \n",
      "Covariance Type:            nonrobust                                         \n",
      "==============================================================================\n",
      "                 coef    std err          t      P>|t|      [0.025      0.975]\n",
      "------------------------------------------------------------------------------\n",
      "const         71.6587     19.649      3.647      0.000      33.057     110.260\n",
      "Beds          59.1599      5.428     10.898      0.000      48.496      69.824\n",
      "==============================================================================\n",
      "Omnibus:                      187.873   Durbin-Watson:                   0.569\n",
      "Prob(Omnibus):                  0.000   Jarque-Bera (JB):              565.400\n",
      "Skew:                           1.746   Prob(JB):                    1.68e-123\n",
      "Kurtosis:                       6.721   Cond. No.                         14.0\n",
      "==============================================================================\n",
      "\n",
      "Notes:\n",
      "[1] Standard Errors assume that the covariance matrix of the errors is correctly specified.\n",
      "model\n",
      "const      278.434696\n",
      "Highway    -48.407423\n",
      "dtype: float64\n",
      "                            OLS Regression Results                            \n",
      "==============================================================================\n",
      "Dep. Variable:              SalePrice   R-squared:                       0.003\n",
      "Model:                            OLS   Adj. R-squared:                  0.001\n",
      "Method:                 Least Squares   F-statistic:                     1.333\n",
      "Date:                Mon, 25 Apr 2022   Prob (F-statistic):              0.249\n",
      "Time:                        20:04:17   Log-Likelihood:                -3303.7\n",
      "No. Observations:                 521   AIC:                             6611.\n",
      "Df Residuals:                     519   BIC:                             6620.\n",
      "Df Model:                           1                                         \n",
      "Covariance Type:            nonrobust                                         \n",
      "==============================================================================\n",
      "                 coef    std err          t      P>|t|      [0.025      0.975]\n",
      "------------------------------------------------------------------------------\n",
      "const        278.4347      6.092     45.707      0.000     266.467     290.402\n",
      "Highway      -48.4074     41.924     -1.155      0.249    -130.770      33.955\n",
      "==============================================================================\n",
      "Omnibus:                      152.809   Durbin-Watson:                   0.377\n",
      "Prob(Omnibus):                  0.000   Jarque-Bera (JB):              340.154\n",
      "Skew:                           1.556   Prob(JB):                     1.37e-74\n",
      "Kurtosis:                       5.445   Cond. No.                         6.96\n",
      "==============================================================================\n",
      "\n",
      "Notes:\n",
      "[1] Standard Errors assume that the covariance matrix of the errors is correctly specified.\n",
      "model\n",
      "const    -71.560334\n",
      "Size     164.136996\n",
      "Beds      -6.360371\n",
      "dtype: float64\n",
      "                            OLS Regression Results                            \n",
      "==============================================================================\n",
      "Dep. Variable:              SalePrice   R-squared:                       0.678\n",
      "Model:                            OLS   Adj. R-squared:                  0.677\n",
      "Method:                 Least Squares   F-statistic:                     546.4\n",
      "Date:                Mon, 25 Apr 2022   Prob (F-statistic):          2.45e-128\n",
      "Time:                        20:04:17   Log-Likelihood:                -3008.9\n",
      "No. Observations:                 521   AIC:                             6024.\n",
      "Df Residuals:                     518   BIC:                             6037.\n",
      "Df Model:                           2                                         \n",
      "Covariance Type:            nonrobust                                         \n",
      "==============================================================================\n",
      "                 coef    std err          t      P>|t|      [0.025      0.975]\n",
      "------------------------------------------------------------------------------\n",
      "const        -71.5603     13.369     -5.353      0.000     -97.825     -45.296\n",
      "Size         164.1370      5.829     28.157      0.000     152.685     175.589\n",
      "Beds          -6.3604      4.133     -1.539      0.124     -14.480       1.759\n",
      "==============================================================================\n",
      "Omnibus:                      139.205   Durbin-Watson:                   1.369\n",
      "Prob(Omnibus):                  0.000   Jarque-Bera (JB):              470.197\n",
      "Skew:                           1.218   Prob(JB):                    7.91e-103\n",
      "Kurtosis:                       6.966   Cond. No.                         17.6\n",
      "==============================================================================\n",
      "\n",
      "Notes:\n",
      "[1] Standard Errors assume that the covariance matrix of the errors is correctly specified.\n",
      "model\n",
      "const      -82.229787\n",
      "Size       159.078152\n",
      "Highway     -0.664128\n",
      "dtype: float64\n",
      "                            OLS Regression Results                            \n",
      "==============================================================================\n",
      "Dep. Variable:              SalePrice   R-squared:                       0.677\n",
      "Model:                            OLS   Adj. R-squared:                  0.676\n",
      "Method:                 Least Squares   F-statistic:                     542.7\n",
      "Date:                Mon, 25 Apr 2022   Prob (F-statistic):          8.00e-128\n",
      "Time:                        20:04:17   Log-Likelihood:                -3010.1\n",
      "No. Observations:                 521   AIC:                             6026.\n",
      "Df Residuals:                     518   BIC:                             6039.\n",
      "Df Model:                           2                                         \n",
      "Covariance Type:            nonrobust                                         \n",
      "==============================================================================\n",
      "                 coef    std err          t      P>|t|      [0.025      0.975]\n",
      "------------------------------------------------------------------------------\n",
      "const        -82.2298     11.504     -7.148      0.000    -104.830     -59.630\n",
      "Size         159.0782      4.838     32.884      0.000     149.574     168.582\n",
      "Highway       -0.6641     23.927     -0.028      0.978     -47.670      46.341\n",
      "==============================================================================\n",
      "Omnibus:                      143.849   Durbin-Watson:                   1.347\n",
      "Prob(Omnibus):                  0.000   Jarque-Bera (JB):              505.213\n",
      "Skew:                           1.246   Prob(JB):                    1.97e-110\n",
      "Kurtosis:                       7.131   Cond. No.                         17.9\n",
      "==============================================================================\n",
      "\n",
      "Notes:\n",
      "[1] Standard Errors assume that the covariance matrix of the errors is correctly specified.\n",
      "model\n",
      "const      72.959527\n",
      "Beds       59.004694\n",
      "Highway   -36.038525\n",
      "dtype: float64\n",
      "                            OLS Regression Results                            \n",
      "==============================================================================\n",
      "Dep. Variable:              SalePrice   R-squared:                       0.188\n",
      "Model:                            OLS   Adj. R-squared:                  0.185\n",
      "Method:                 Least Squares   F-statistic:                     59.83\n",
      "Date:                Mon, 25 Apr 2022   Prob (F-statistic):           4.21e-24\n",
      "Time:                        20:04:17   Log-Likelihood:                -3250.3\n",
      "No. Observations:                 521   AIC:                             6507.\n",
      "Df Residuals:                     518   BIC:                             6519.\n",
      "Df Model:                           2                                         \n",
      "Covariance Type:            nonrobust                                         \n",
      "==============================================================================\n",
      "                 coef    std err          t      P>|t|      [0.025      0.975]\n",
      "------------------------------------------------------------------------------\n",
      "const         72.9595     19.698      3.704      0.000      34.261     111.658\n",
      "Beds          59.0047      5.431     10.864      0.000      48.334      69.675\n",
      "Highway      -36.0385     37.889     -0.951      0.342    -110.473      38.396\n",
      "==============================================================================\n",
      "Omnibus:                      187.754   Durbin-Watson:                   0.568\n",
      "Prob(Omnibus):                  0.000   Jarque-Bera (JB):              563.766\n",
      "Skew:                           1.746   Prob(JB):                    3.80e-123\n",
      "Kurtosis:                       6.711   Cond. No.                         26.1\n",
      "==============================================================================\n",
      "\n",
      "Notes:\n",
      "[1] Standard Errors assume that the covariance matrix of the errors is correctly specified.\n",
      "model\n",
      "const      -71.537539\n",
      "Size       164.130766\n",
      "Beds        -6.359956\n",
      "Highway     -0.480924\n",
      "dtype: float64\n",
      "                            OLS Regression Results                            \n",
      "==============================================================================\n",
      "Dep. Variable:              SalePrice   R-squared:                       0.678\n",
      "Model:                            OLS   Adj. R-squared:                  0.677\n",
      "Method:                 Least Squares   F-statistic:                     363.6\n",
      "Date:                Mon, 25 Apr 2022   Prob (F-statistic):          6.48e-127\n",
      "Time:                        20:04:17   Log-Likelihood:                -3008.9\n",
      "No. Observations:                 521   AIC:                             6026.\n",
      "Df Residuals:                     517   BIC:                             6043.\n",
      "Df Model:                           3                                         \n",
      "Covariance Type:            nonrobust                                         \n",
      "==============================================================================\n",
      "                 coef    std err          t      P>|t|      [0.025      0.975]\n",
      "------------------------------------------------------------------------------\n",
      "const        -71.5375     13.430     -5.327      0.000     -97.922     -45.153\n",
      "Size         164.1308      5.843     28.089      0.000     152.651     175.610\n",
      "Beds          -6.3600      4.137     -1.537      0.125     -14.488       1.768\n",
      "Highway       -0.4809     23.896     -0.020      0.984     -47.425      46.464\n",
      "==============================================================================\n",
      "Omnibus:                      139.204   Durbin-Watson:                   1.369\n",
      "Prob(Omnibus):                  0.000   Jarque-Bera (JB):              470.170\n",
      "Skew:                           1.218   Prob(JB):                    8.01e-103\n",
      "Kurtosis:                       6.966   Cond. No.                         30.7\n",
      "==============================================================================\n",
      "\n",
      "Notes:\n",
      "[1] Standard Errors assume that the covariance matrix of the errors is correctly specified.\n",
      "[0.676943525214198, 0.1862265142650874, 0.0025621650160894127, 0.6784137426780028, 0.6769440057049589, 0.18764532620894303, 0.6784139946330221]\n"
     ]
    }
   ],
   "source": [
    "Finallist = []\n",
    "for i in all_combinationsb :\n",
    "    x = df[i]\n",
    "    y = df['SalePrice']\n",
    "    x = sm.add_constant(x)\n",
    "    model = sm.OLS(y,x).fit()\n",
    "    intercept = model.params[0]\n",
    "    slope = model.params[1]\n",
    "    Rsquared = model.rsquared\n",
    "    print (\"model\")\n",
    "    print (model.params)\n",
    "    print (model.summary())\n",
    "    Final = model.rsquared\n",
    "    Finallist.append(Final)\n",
    "    \n",
    "print(Finallist)"
   ]
  },
  {
   "cell_type": "code",
   "execution_count": 212,
   "id": "13e32c2f",
   "metadata": {},
   "outputs": [
    {
     "data": {
      "text/plain": [
       "0.6784139946330221"
      ]
     },
     "execution_count": 212,
     "metadata": {},
     "output_type": "execute_result"
    }
   ],
   "source": [
    "max (Finallist)"
   ]
  },
  {
   "cell_type": "code",
   "execution_count": 214,
   "id": "7fd206a9",
   "metadata": {},
   "outputs": [],
   "source": [
    "out = os.path.join ('Q2_b.txt')\n",
    "fid = open(out, 'w')\n",
    "print (model.summary(), file = fid)\n",
    "fid.close()"
   ]
  },
  {
   "cell_type": "code",
   "execution_count": null,
   "id": "0ccb7cb4",
   "metadata": {},
   "outputs": [],
   "source": []
  }
 ],
 "metadata": {
  "kernelspec": {
   "display_name": "Python 3 (ipykernel)",
   "language": "python",
   "name": "python3"
  },
  "language_info": {
   "codemirror_mode": {
    "name": "ipython",
    "version": 3
   },
   "file_extension": ".py",
   "mimetype": "text/x-python",
   "name": "python",
   "nbconvert_exporter": "python",
   "pygments_lexer": "ipython3",
   "version": "3.8.10"
  }
 },
 "nbformat": 4,
 "nbformat_minor": 5
}
